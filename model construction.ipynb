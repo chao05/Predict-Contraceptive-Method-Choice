{
 "cells": [
  {
   "cell_type": "code",
   "execution_count": 1,
   "metadata": {},
   "outputs": [],
   "source": [
    "import pandas as pd\n",
    "import numpy as np\n",
    "from scipy.io import arff\n",
    "from scipy.stats import iqr\n",
    "\n",
    "import os\n",
    "import math\n",
    "\n",
    "import matplotlib.pyplot as plt\n",
    "import matplotlib.colors as mcolors\n",
    "import seaborn as sns\n",
    "\n",
    "import datetime\n",
    "import calendar\n",
    "\n",
    "from numpy import mean\n",
    "from numpy import std\n",
    "\n",
    "from sklearn.preprocessing import normalize\n",
    "from sklearn.preprocessing import scale\n",
    "from sklearn.feature_selection import f_regression\n",
    "from sklearn.feature_selection import f_classif\n",
    "from sklearn.feature_selection import mutual_info_classif\n",
    "from sklearn.feature_selection import chi2\n",
    "from sklearn.feature_selection import mutual_info_regression\n",
    "from sklearn.feature_selection import RFE\n",
    "from sklearn.discriminant_analysis import LinearDiscriminantAnalysis\n",
    "from sklearn.decomposition import PCA\n",
    "from sklearn.neighbors import KNeighborsClassifier\n",
    "from sklearn.svm import SVC\n",
    "from sklearn.linear_model import LogisticRegression\n",
    "from sklearn.tree import DecisionTreeClassifier\n",
    "from sklearn.ensemble import RandomForestClassifier\n",
    "from sklearn.model_selection import cross_val_score\n",
    "from sklearn.model_selection import learning_curve\n",
    "\n",
    "import joblib"
   ]
  },
  {
   "cell_type": "code",
   "execution_count": 2,
   "metadata": {},
   "outputs": [],
   "source": [
    "names = ['wife age', 'wife education', 'husband education', \n",
    "         'No. of children ever born', 'wife religion', 'wife now working?', \n",
    "         'husband occupation', 'standard-of-living index', 'media exposure', \n",
    "         'contraceptive method choice']"
   ]
  },
  {
   "cell_type": "code",
   "execution_count": 3,
   "metadata": {
    "scrolled": true
   },
   "outputs": [
    {
     "name": "stdout",
     "output_type": "stream",
     "text": [
      "(1473, 10)\n"
     ]
    },
    {
     "data": {
      "text/html": [
       "<div>\n",
       "<style scoped>\n",
       "    .dataframe tbody tr th:only-of-type {\n",
       "        vertical-align: middle;\n",
       "    }\n",
       "\n",
       "    .dataframe tbody tr th {\n",
       "        vertical-align: top;\n",
       "    }\n",
       "\n",
       "    .dataframe thead th {\n",
       "        text-align: right;\n",
       "    }\n",
       "</style>\n",
       "<table border=\"1\" class=\"dataframe\">\n",
       "  <thead>\n",
       "    <tr style=\"text-align: right;\">\n",
       "      <th></th>\n",
       "      <th>wife age</th>\n",
       "      <th>wife education</th>\n",
       "      <th>husband education</th>\n",
       "      <th>No. of children ever born</th>\n",
       "      <th>wife religion</th>\n",
       "      <th>wife now working?</th>\n",
       "      <th>husband occupation</th>\n",
       "      <th>standard-of-living index</th>\n",
       "      <th>media exposure</th>\n",
       "      <th>contraceptive method choice</th>\n",
       "    </tr>\n",
       "  </thead>\n",
       "  <tbody>\n",
       "    <tr>\n",
       "      <th>0</th>\n",
       "      <td>24</td>\n",
       "      <td>2</td>\n",
       "      <td>3</td>\n",
       "      <td>3</td>\n",
       "      <td>1</td>\n",
       "      <td>1</td>\n",
       "      <td>2</td>\n",
       "      <td>3</td>\n",
       "      <td>0</td>\n",
       "      <td>1</td>\n",
       "    </tr>\n",
       "    <tr>\n",
       "      <th>1</th>\n",
       "      <td>45</td>\n",
       "      <td>1</td>\n",
       "      <td>3</td>\n",
       "      <td>10</td>\n",
       "      <td>1</td>\n",
       "      <td>1</td>\n",
       "      <td>3</td>\n",
       "      <td>4</td>\n",
       "      <td>0</td>\n",
       "      <td>1</td>\n",
       "    </tr>\n",
       "    <tr>\n",
       "      <th>2</th>\n",
       "      <td>43</td>\n",
       "      <td>2</td>\n",
       "      <td>3</td>\n",
       "      <td>7</td>\n",
       "      <td>1</td>\n",
       "      <td>1</td>\n",
       "      <td>3</td>\n",
       "      <td>4</td>\n",
       "      <td>0</td>\n",
       "      <td>1</td>\n",
       "    </tr>\n",
       "    <tr>\n",
       "      <th>3</th>\n",
       "      <td>42</td>\n",
       "      <td>3</td>\n",
       "      <td>2</td>\n",
       "      <td>9</td>\n",
       "      <td>1</td>\n",
       "      <td>1</td>\n",
       "      <td>3</td>\n",
       "      <td>3</td>\n",
       "      <td>0</td>\n",
       "      <td>1</td>\n",
       "    </tr>\n",
       "    <tr>\n",
       "      <th>4</th>\n",
       "      <td>36</td>\n",
       "      <td>3</td>\n",
       "      <td>3</td>\n",
       "      <td>8</td>\n",
       "      <td>1</td>\n",
       "      <td>1</td>\n",
       "      <td>3</td>\n",
       "      <td>2</td>\n",
       "      <td>0</td>\n",
       "      <td>1</td>\n",
       "    </tr>\n",
       "  </tbody>\n",
       "</table>\n",
       "</div>"
      ],
      "text/plain": [
       "   wife age  wife education  husband education  No. of children ever born  \\\n",
       "0        24               2                  3                          3   \n",
       "1        45               1                  3                         10   \n",
       "2        43               2                  3                          7   \n",
       "3        42               3                  2                          9   \n",
       "4        36               3                  3                          8   \n",
       "\n",
       "   wife religion  wife now working?  husband occupation  \\\n",
       "0              1                  1                   2   \n",
       "1              1                  1                   3   \n",
       "2              1                  1                   3   \n",
       "3              1                  1                   3   \n",
       "4              1                  1                   3   \n",
       "\n",
       "   standard-of-living index  media exposure  contraceptive method choice  \n",
       "0                         3               0                            1  \n",
       "1                         4               0                            1  \n",
       "2                         4               0                            1  \n",
       "3                         3               0                            1  \n",
       "4                         2               0                            1  "
      ]
     },
     "execution_count": 3,
     "metadata": {},
     "output_type": "execute_result"
    }
   ],
   "source": [
    "cmc = pd.read_csv('cmc.data', header = None, names = names)\n",
    "print(cmc.shape)                             \n",
    "cmc.head()"
   ]
  },
  {
   "cell_type": "code",
   "execution_count": 10,
   "metadata": {
    "scrolled": true
   },
   "outputs": [
    {
     "name": "stdout",
     "output_type": "stream",
     "text": [
      "wife age \n",
      " [16 17 18 19 20 21 22 23 24 25 26 27 28 29 30 31 32 33 34 35 36 37 38 39\n",
      " 40 41 42 43 44 45 46 47 48 49] \n",
      "\n",
      "wife education \n",
      " [1 2 3 4] \n",
      "\n",
      "husband education \n",
      " [1 2 3 4] \n",
      "\n",
      "No. of children ever born \n",
      " [ 0  1  2  3  4  5  6  7  8  9 10 11 12 13 16] \n",
      "\n",
      "wife religion \n",
      " [0 1] \n",
      "\n",
      "wife now working? \n",
      " [0 1] \n",
      "\n",
      "husband occupation \n",
      " [1 2 3 4] \n",
      "\n",
      "standard-of-living index \n",
      " [1 2 3 4] \n",
      "\n",
      "media exposure \n",
      " [0 1] \n",
      "\n",
      "contraceptive method choice \n",
      " [1 2 3] \n",
      "\n"
     ]
    }
   ],
   "source": [
    "def print_unique(df):\n",
    "    for col in df.columns:\n",
    "        print(col, '\\n', df[col].sort_values().unique(), '\\n')\n",
    "        \n",
    "print_unique(cmc)"
   ]
  },
  {
   "cell_type": "code",
   "execution_count": 16,
   "metadata": {
    "scrolled": true
   },
   "outputs": [
    {
     "data": {
      "text/html": [
       "<div>\n",
       "<style scoped>\n",
       "    .dataframe tbody tr th:only-of-type {\n",
       "        vertical-align: middle;\n",
       "    }\n",
       "\n",
       "    .dataframe tbody tr th {\n",
       "        vertical-align: top;\n",
       "    }\n",
       "\n",
       "    .dataframe thead th {\n",
       "        text-align: right;\n",
       "    }\n",
       "</style>\n",
       "<table border=\"1\" class=\"dataframe\">\n",
       "  <thead>\n",
       "    <tr style=\"text-align: right;\">\n",
       "      <th></th>\n",
       "      <th>n_unique</th>\n",
       "      <th>dtype</th>\n",
       "      <th>n_missing</th>\n",
       "      <th>pct_missing</th>\n",
       "    </tr>\n",
       "  </thead>\n",
       "  <tbody>\n",
       "    <tr>\n",
       "      <th>wife age</th>\n",
       "      <td>34</td>\n",
       "      <td>int64</td>\n",
       "      <td>0</td>\n",
       "      <td>0.0</td>\n",
       "    </tr>\n",
       "    <tr>\n",
       "      <th>wife education</th>\n",
       "      <td>4</td>\n",
       "      <td>int64</td>\n",
       "      <td>0</td>\n",
       "      <td>0.0</td>\n",
       "    </tr>\n",
       "    <tr>\n",
       "      <th>husband education</th>\n",
       "      <td>4</td>\n",
       "      <td>int64</td>\n",
       "      <td>0</td>\n",
       "      <td>0.0</td>\n",
       "    </tr>\n",
       "    <tr>\n",
       "      <th>No. of children ever born</th>\n",
       "      <td>15</td>\n",
       "      <td>int64</td>\n",
       "      <td>0</td>\n",
       "      <td>0.0</td>\n",
       "    </tr>\n",
       "    <tr>\n",
       "      <th>wife religion</th>\n",
       "      <td>2</td>\n",
       "      <td>int64</td>\n",
       "      <td>0</td>\n",
       "      <td>0.0</td>\n",
       "    </tr>\n",
       "    <tr>\n",
       "      <th>wife now working?</th>\n",
       "      <td>2</td>\n",
       "      <td>int64</td>\n",
       "      <td>0</td>\n",
       "      <td>0.0</td>\n",
       "    </tr>\n",
       "    <tr>\n",
       "      <th>husband occupation</th>\n",
       "      <td>4</td>\n",
       "      <td>int64</td>\n",
       "      <td>0</td>\n",
       "      <td>0.0</td>\n",
       "    </tr>\n",
       "    <tr>\n",
       "      <th>standard-of-living index</th>\n",
       "      <td>4</td>\n",
       "      <td>int64</td>\n",
       "      <td>0</td>\n",
       "      <td>0.0</td>\n",
       "    </tr>\n",
       "    <tr>\n",
       "      <th>media exposure</th>\n",
       "      <td>2</td>\n",
       "      <td>int64</td>\n",
       "      <td>0</td>\n",
       "      <td>0.0</td>\n",
       "    </tr>\n",
       "    <tr>\n",
       "      <th>contraceptive method choice</th>\n",
       "      <td>3</td>\n",
       "      <td>int64</td>\n",
       "      <td>0</td>\n",
       "      <td>0.0</td>\n",
       "    </tr>\n",
       "  </tbody>\n",
       "</table>\n",
       "</div>"
      ],
      "text/plain": [
       "                             n_unique  dtype  n_missing  pct_missing\n",
       "wife age                           34  int64          0          0.0\n",
       "wife education                      4  int64          0          0.0\n",
       "husband education                   4  int64          0          0.0\n",
       "No. of children ever born          15  int64          0          0.0\n",
       "wife religion                       2  int64          0          0.0\n",
       "wife now working?                   2  int64          0          0.0\n",
       "husband occupation                  4  int64          0          0.0\n",
       "standard-of-living index            4  int64          0          0.0\n",
       "media exposure                      2  int64          0          0.0\n",
       "contraceptive method choice         3  int64          0          0.0"
      ]
     },
     "execution_count": 16,
     "metadata": {},
     "output_type": "execute_result"
    }
   ],
   "source": [
    "def get_snapshot(df):\n",
    "        n_missing = pd.DataFrame(df.isnull().sum(), columns = ['n_missing'])\n",
    "        pct_missing = pd.DataFrame(round(df.isnull().sum() / df.shape[0], 2), columns = ['pct_missing'])\n",
    "        dtype = pd.DataFrame(df.dtypes, columns = ['dtype'])\n",
    "        n_unique = []\n",
    "        for col in df.columns:\n",
    "            n_unique.append(df[col].nunique())    \n",
    "        return pd.DataFrame(n_unique, index = df.columns, columns = ['n_unique']).join(dtype).join(n_missing).join(pct_missing)\n",
    "\n",
    "snapshot = get_snapshot(cmc)\n",
    "snapshot"
   ]
  },
  {
   "cell_type": "code",
   "execution_count": 17,
   "metadata": {
    "scrolled": false
   },
   "outputs": [
    {
     "data": {
      "text/plain": [
       "array([ 2,  3,  4, 15, 34], dtype=int64)"
      ]
     },
     "execution_count": 17,
     "metadata": {},
     "output_type": "execute_result"
    }
   ],
   "source": [
    "np.sort(snapshot['n_unique'].unique())"
   ]
  },
  {
   "cell_type": "code",
   "execution_count": 25,
   "metadata": {},
   "outputs": [],
   "source": [
    "num = ['No. of children ever born', 'wife age']"
   ]
  },
  {
   "cell_type": "code",
   "execution_count": 21,
   "metadata": {},
   "outputs": [],
   "source": [
    "def plot_single_categorical(df, col):\n",
    "    plt.figure(figsize = (4, 4))\n",
    "    df[col].value_counts().plot.bar(color = mcolors.TABLEAU_COLORS)\n",
    "    sns.despine(top = True)\n",
    "    \n",
    "    n_level = df[col].nunique()\n",
    "    for x_coor in range(n_level):\n",
    "        plt.annotate(df[col].value_counts().iloc[x_coor], \n",
    "                     xy = (x_coor, \n",
    "                           df[col].value_counts().iloc[x_coor] + df[col].value_counts().iloc[0]/50))\n",
    "    \n",
    "    plt.xticks(rotation = 0)\n",
    "    plt.grid()\n",
    "    plt.title(col)\n",
    "    plt.show()"
   ]
  },
  {
   "cell_type": "code",
   "execution_count": 22,
   "metadata": {},
   "outputs": [
    {
     "data": {
      "image/png": "[encoded data removed]",
      "text/plain": [
       "<Figure size 288x288 with 1 Axes>"
      ]
     },
     "metadata": {
      "needs_background": "light"
     },
     "output_type": "display_data"
    }
   ],
   "source": [
    "plot_single_categorical(cmc, 'contraceptive method choice')"
   ]
  },
  {
   "cell_type": "code",
   "execution_count": 14,
   "metadata": {
    "scrolled": true
   },
   "outputs": [],
   "source": [
    "cmc_dummi = pd.get_dummies(cmc, columns = ['contraceptive method choice', 'husband occupation'], dtype = int)"
   ]
  },
  {
   "cell_type": "code",
   "execution_count": 23,
   "metadata": {},
   "outputs": [
    {
     "data": {
      "image/png": "[encoded data removed]",
      "text/plain": [
       "<Figure size 288x288 with 1 Axes>"
      ]
     },
     "metadata": {
      "needs_background": "light"
     },
     "output_type": "display_data"
    }
   ],
   "source": [
    "plot_single_categorical(cmc_dummi, 'contraceptive method choice_1')"
   ]
  },
  {
   "cell_type": "code",
   "execution_count": 19,
   "metadata": {
    "scrolled": true
   },
   "outputs": [
    {
     "data": {
      "text/plain": [
       "Index(['wife age', 'wife education', 'husband education',\n",
       "       'No. of children ever born', 'wife religion', 'wife now working?',\n",
       "       'standard-of-living index', 'media exposure', 'husband occupation_1',\n",
       "       'husband occupation_2', 'husband occupation_3', 'husband occupation_4'],\n",
       "      dtype='object')"
      ]
     },
     "execution_count": 19,
     "metadata": {},
     "output_type": "execute_result"
    }
   ],
   "source": [
    "targ_dummi = []\n",
    "for col in cmc_dummi.columns:\n",
    "    if col.startswith('contraceptive method choice'):\n",
    "        targ_dummi.append(col)\n",
    "        \n",
    "features = cmc_dummi.columns.drop(targ_dummi)\n",
    "features"
   ]
  },
  {
   "cell_type": "code",
   "execution_count": 24,
   "metadata": {},
   "outputs": [],
   "source": [
    "def feat_significance(X, y, n_feat_data_type, features):\n",
    "    mi_df = pd.DataFrame(mutual_info_classif(X, y, random_state = 42), index = X.columns, columns = ['score'])\n",
    "    mi_df = mi_df.sort_values(by = 'score', ascending = False)\n",
    "    \n",
    "    def color_cell(s):    \n",
    "        background = []\n",
    "        for i in range(len(s.index)):\n",
    "            if s.index[i] in features:\n",
    "                background.append('background-color: yellow')\n",
    "            else:\n",
    "                background.append('')\n",
    "        return background\n",
    "    \n",
    "    if n_feat_data_type == 1:\n",
    "        return mi_df\n",
    "    else:\n",
    "        return mi_df.style.apply(color_cell, axis = 0)"
   ]
  },
  {
   "cell_type": "code",
   "execution_count": 27,
   "metadata": {
    "scrolled": true
   },
   "outputs": [
    {
     "data": {
      "text/html": [
       "<style  type=\"text/css\" >\n",
       "    #T_74910586_1b7e_11eb_b313_982cbc79baa2row0_col0 {\n",
       "            background-color:  yellow;\n",
       "        }    #T_74910586_1b7e_11eb_b313_982cbc79baa2row3_col0 {\n",
       "            background-color:  yellow;\n",
       "        }</style><table id=\"T_74910586_1b7e_11eb_b313_982cbc79baa2\" ><thead>    <tr>        <th class=\"blank level0\" ></th>        <th class=\"col_heading level0 col0\" >score</th>    </tr></thead><tbody>\n",
       "                <tr>\n",
       "                        <th id=\"T_74910586_1b7e_11eb_b313_982cbc79baa2level0_row0\" class=\"row_heading level0 row0\" >No. of children ever born</th>\n",
       "                        <td id=\"T_74910586_1b7e_11eb_b313_982cbc79baa2row0_col0\" class=\"data row0 col0\" >0.064302</td>\n",
       "            </tr>\n",
       "            <tr>\n",
       "                        <th id=\"T_74910586_1b7e_11eb_b313_982cbc79baa2level0_row1\" class=\"row_heading level0 row1\" >wife education</th>\n",
       "                        <td id=\"T_74910586_1b7e_11eb_b313_982cbc79baa2row1_col0\" class=\"data row1 col0\" >0.045993</td>\n",
       "            </tr>\n",
       "            <tr>\n",
       "                        <th id=\"T_74910586_1b7e_11eb_b313_982cbc79baa2level0_row2\" class=\"row_heading level0 row2\" >husband occupation_2</th>\n",
       "                        <td id=\"T_74910586_1b7e_11eb_b313_982cbc79baa2row2_col0\" class=\"data row2 col0\" >0.022912</td>\n",
       "            </tr>\n",
       "            <tr>\n",
       "                        <th id=\"T_74910586_1b7e_11eb_b313_982cbc79baa2level0_row3\" class=\"row_heading level0 row3\" >wife age</th>\n",
       "                        <td id=\"T_74910586_1b7e_11eb_b313_982cbc79baa2row3_col0\" class=\"data row3 col0\" >0.019952</td>\n",
       "            </tr>\n",
       "            <tr>\n",
       "                        <th id=\"T_74910586_1b7e_11eb_b313_982cbc79baa2level0_row4\" class=\"row_heading level0 row4\" >husband education</th>\n",
       "                        <td id=\"T_74910586_1b7e_11eb_b313_982cbc79baa2row4_col0\" class=\"data row4 col0\" >0.018896</td>\n",
       "            </tr>\n",
       "            <tr>\n",
       "                        <th id=\"T_74910586_1b7e_11eb_b313_982cbc79baa2level0_row5\" class=\"row_heading level0 row5\" >media exposure</th>\n",
       "                        <td id=\"T_74910586_1b7e_11eb_b313_982cbc79baa2row5_col0\" class=\"data row5 col0\" >0.015192</td>\n",
       "            </tr>\n",
       "            <tr>\n",
       "                        <th id=\"T_74910586_1b7e_11eb_b313_982cbc79baa2level0_row6\" class=\"row_heading level0 row6\" >wife religion</th>\n",
       "                        <td id=\"T_74910586_1b7e_11eb_b313_982cbc79baa2row6_col0\" class=\"data row6 col0\" >0.014641</td>\n",
       "            </tr>\n",
       "            <tr>\n",
       "                        <th id=\"T_74910586_1b7e_11eb_b313_982cbc79baa2level0_row7\" class=\"row_heading level0 row7\" >husband occupation_4</th>\n",
       "                        <td id=\"T_74910586_1b7e_11eb_b313_982cbc79baa2row7_col0\" class=\"data row7 col0\" >0.010039</td>\n",
       "            </tr>\n",
       "            <tr>\n",
       "                        <th id=\"T_74910586_1b7e_11eb_b313_982cbc79baa2level0_row8\" class=\"row_heading level0 row8\" >standard-of-living index</th>\n",
       "                        <td id=\"T_74910586_1b7e_11eb_b313_982cbc79baa2row8_col0\" class=\"data row8 col0\" >0.009489</td>\n",
       "            </tr>\n",
       "            <tr>\n",
       "                        <th id=\"T_74910586_1b7e_11eb_b313_982cbc79baa2level0_row9\" class=\"row_heading level0 row9\" >husband occupation_1</th>\n",
       "                        <td id=\"T_74910586_1b7e_11eb_b313_982cbc79baa2row9_col0\" class=\"data row9 col0\" >0.008426</td>\n",
       "            </tr>\n",
       "            <tr>\n",
       "                        <th id=\"T_74910586_1b7e_11eb_b313_982cbc79baa2level0_row10\" class=\"row_heading level0 row10\" >husband occupation_3</th>\n",
       "                        <td id=\"T_74910586_1b7e_11eb_b313_982cbc79baa2row10_col0\" class=\"data row10 col0\" >0.000291</td>\n",
       "            </tr>\n",
       "            <tr>\n",
       "                        <th id=\"T_74910586_1b7e_11eb_b313_982cbc79baa2level0_row11\" class=\"row_heading level0 row11\" >wife now working?</th>\n",
       "                        <td id=\"T_74910586_1b7e_11eb_b313_982cbc79baa2row11_col0\" class=\"data row11 col0\" >0.000000</td>\n",
       "            </tr>\n",
       "    </tbody></table>"
      ],
      "text/plain": [
       "<pandas.io.formats.style.Styler at 0x22458589788>"
      ]
     },
     "execution_count": 27,
     "metadata": {},
     "output_type": "execute_result"
    }
   ],
   "source": [
    "feat_score = feat_significance(cmc_dummi[features], cmc_dummi['contraceptive method choice_1'], 2, num)\n",
    "feat_score"
   ]
  },
  {
   "cell_type": "code",
   "execution_count": 28,
   "metadata": {},
   "outputs": [],
   "source": [
    "def get_mean_std(df):\n",
    "    mean_col = pd.DataFrame(df.mean(), columns = ['mean'])\n",
    "    std_col = pd.DataFrame(df.std(), columns = ['std'])\n",
    "    mean_plus_std = mean_col.join(std_col)\n",
    "    return mean_plus_std"
   ]
  },
  {
   "cell_type": "code",
   "execution_count": 29,
   "metadata": {},
   "outputs": [
    {
     "data": {
      "text/html": [
       "<div>\n",
       "<style scoped>\n",
       "    .dataframe tbody tr th:only-of-type {\n",
       "        vertical-align: middle;\n",
       "    }\n",
       "\n",
       "    .dataframe tbody tr th {\n",
       "        vertical-align: top;\n",
       "    }\n",
       "\n",
       "    .dataframe thead th {\n",
       "        text-align: right;\n",
       "    }\n",
       "</style>\n",
       "<table border=\"1\" class=\"dataframe\">\n",
       "  <thead>\n",
       "    <tr style=\"text-align: right;\">\n",
       "      <th></th>\n",
       "      <th>mean</th>\n",
       "      <th>std</th>\n",
       "    </tr>\n",
       "  </thead>\n",
       "  <tbody>\n",
       "    <tr>\n",
       "      <th>wife age</th>\n",
       "      <td>32.538357</td>\n",
       "      <td>8.227245</td>\n",
       "    </tr>\n",
       "    <tr>\n",
       "      <th>wife education</th>\n",
       "      <td>2.958588</td>\n",
       "      <td>1.014994</td>\n",
       "    </tr>\n",
       "    <tr>\n",
       "      <th>husband education</th>\n",
       "      <td>3.429735</td>\n",
       "      <td>0.816349</td>\n",
       "    </tr>\n",
       "    <tr>\n",
       "      <th>No. of children ever born</th>\n",
       "      <td>3.261371</td>\n",
       "      <td>2.358549</td>\n",
       "    </tr>\n",
       "    <tr>\n",
       "      <th>wife religion</th>\n",
       "      <td>0.850645</td>\n",
       "      <td>0.356559</td>\n",
       "    </tr>\n",
       "    <tr>\n",
       "      <th>wife now working?</th>\n",
       "      <td>0.749491</td>\n",
       "      <td>0.433453</td>\n",
       "    </tr>\n",
       "    <tr>\n",
       "      <th>standard-of-living index</th>\n",
       "      <td>3.133741</td>\n",
       "      <td>0.976161</td>\n",
       "    </tr>\n",
       "    <tr>\n",
       "      <th>media exposure</th>\n",
       "      <td>0.073999</td>\n",
       "      <td>0.261858</td>\n",
       "    </tr>\n",
       "    <tr>\n",
       "      <th>husband occupation_1</th>\n",
       "      <td>0.295995</td>\n",
       "      <td>0.456644</td>\n",
       "    </tr>\n",
       "    <tr>\n",
       "      <th>husband occupation_2</th>\n",
       "      <td>0.288527</td>\n",
       "      <td>0.453231</td>\n",
       "    </tr>\n",
       "    <tr>\n",
       "      <th>husband occupation_3</th>\n",
       "      <td>0.397149</td>\n",
       "      <td>0.489473</td>\n",
       "    </tr>\n",
       "    <tr>\n",
       "      <th>husband occupation_4</th>\n",
       "      <td>0.018330</td>\n",
       "      <td>0.134187</td>\n",
       "    </tr>\n",
       "  </tbody>\n",
       "</table>\n",
       "</div>"
      ],
      "text/plain": [
       "                                mean       std\n",
       "wife age                   32.538357  8.227245\n",
       "wife education              2.958588  1.014994\n",
       "husband education           3.429735  0.816349\n",
       "No. of children ever born   3.261371  2.358549\n",
       "wife religion               0.850645  0.356559\n",
       "wife now working?           0.749491  0.433453\n",
       "standard-of-living index    3.133741  0.976161\n",
       "media exposure              0.073999  0.261858\n",
       "husband occupation_1        0.295995  0.456644\n",
       "husband occupation_2        0.288527  0.453231\n",
       "husband occupation_3        0.397149  0.489473\n",
       "husband occupation_4        0.018330  0.134187"
      ]
     },
     "execution_count": 29,
     "metadata": {},
     "output_type": "execute_result"
    }
   ],
   "source": [
    "get_mean_std(cmc_dummi[features])"
   ]
  },
  {
   "cell_type": "code",
   "execution_count": 30,
   "metadata": {},
   "outputs": [],
   "source": [
    "X_scaled = pd.DataFrame(scale(cmc_dummi[features]), columns = features)\n",
    "y = cmc_dummi['contraceptive method choice_1']"
   ]
  },
  {
   "cell_type": "code",
   "execution_count": 31,
   "metadata": {},
   "outputs": [],
   "source": [
    "lr = LogisticRegression(random_state = 42)\n",
    "knn = KNeighborsClassifier()\n",
    "svc = SVC(random_state = 42)\n",
    "tree = DecisionTreeClassifier(max_features = 'auto', random_state = 42)\n",
    "alg_dict = {lr: 'lr', svc: 'svc', knn: 'knn', tree: 'tree'}"
   ]
  },
  {
   "cell_type": "code",
   "execution_count": 32,
   "metadata": {},
   "outputs": [],
   "source": [
    "def num_feat_perform(algorithm, feat_ordered, X_ordered, y, metric):\n",
    "    scores = []\n",
    "    for i in range(1, len(feat_ordered)+1):\n",
    "        pred_data = X_ordered.iloc[:, 0:i]\n",
    "        score = mean(cross_val_score(algorithm, pred_data, y, scoring = metric, cv = 5))\n",
    "        scores.append(score)\n",
    "\n",
    "    n_features = len(feat_ordered)\n",
    "    plt.plot(np.arange(n_features), scores, marker = 'x')\n",
    "    plt.xticks(np.arange(n_features), np.arange(1, n_features + 1))\n",
    "    for i in range(n_features):\n",
    "        plt.text(i, scores[i], s = round(scores[i], 2))\n",
    "    plt.grid()\n",
    "    plt.xlabel('no. of features')\n",
    "    plt.ylabel('score')\n",
    "    \n",
    "def num_feat_multi_alg(alg_dict, feat_ordered, X_ordered, y, metric):\n",
    "    n_algorithm = len(alg_dict)\n",
    "    algorithms = list(alg_dict.keys())\n",
    "    alg_names = list(alg_dict.values())\n",
    "    if n_algorithm <= 2:\n",
    "        nrows = 1\n",
    "        ncols = n_algorithm\n",
    "        fig = plt.figure(figsize = (ncols * 6, 4))\n",
    "    else:\n",
    "        nrows = math.ceil(n_algorithm / 2)\n",
    "        ncols = 2\n",
    "        fig = plt.figure(figsize = (12, nrows * 4))\n",
    "\n",
    "    for n in range(n_algorithm):\n",
    "        ax = fig.add_subplot(nrows, ncols, n + 1)\n",
    "        ax = num_feat_perform(algorithms[n], feat_ordered, X_ordered, y, metric)\n",
    "        plt.title(f\"'{alg_names[n]}' performance by '{metric}'\")\n",
    "        \n",
    "    plt.tight_layout()\n",
    "    plt.show()"
   ]
  },
  {
   "cell_type": "code",
   "execution_count": 33,
   "metadata": {},
   "outputs": [
    {
     "data": {
      "image/png": "[encoded data removed]",
      "text/plain": [
       "<Figure size 864x576 with 4 Axes>"
      ]
     },
     "metadata": {
      "needs_background": "light"
     },
     "output_type": "display_data"
    }
   ],
   "source": [
    "num_feat_multi_alg(alg_dict, feat_score.index, X_scaled[feat_score.index], y, 'f1')"
   ]
  },
  {
   "cell_type": "code",
   "execution_count": 34,
   "metadata": {},
   "outputs": [
    {
     "data": {
      "text/plain": [
       "Index(['No. of children ever born', 'wife education', 'wife age'], dtype='object')"
      ]
     },
     "execution_count": 34,
     "metadata": {},
     "output_type": "execute_result"
    }
   ],
   "source": [
    "feat_svc = feat_score.index[0:4].drop(feat_score.index[2])\n",
    "feat_svc"
   ]
  },
  {
   "cell_type": "code",
   "execution_count": 35,
   "metadata": {},
   "outputs": [
    {
     "data": {
      "image/png": "[encoded data removed]",
      "text/plain": [
       "<Figure size 432x288 with 1 Axes>"
      ]
     },
     "metadata": {
      "needs_background": "light"
     },
     "output_type": "display_data"
    }
   ],
   "source": [
    "num_feat_multi_alg({svc: 'svc'}, feat_svc, X_scaled[feat_svc], y, 'f1')"
   ]
  },
  {
   "cell_type": "code",
   "execution_count": 36,
   "metadata": {},
   "outputs": [],
   "source": [
    "def plot_learning_curve(train_scores, test_scores, train_sizes):\n",
    "    train_scores = pd.DataFrame(train_scores, index = train_sizes, columns = ['split1', 'split2', 'split3', 'split4', 'split5'])\n",
    "    train_scores = train_scores.join(pd.Series(train_scores.mean(axis = 1), name = 'mean'))\n",
    "\n",
    "    test_scores = pd.DataFrame(test_scores, index = train_sizes, columns = ['split1', 'split2', 'split3', 'split4', 'split5'])\n",
    "    test_scores = test_scores.join(pd.Series(test_scores.mean(axis = 1), name = 'mean'))\n",
    "\n",
    "    plt.plot(train_scores['mean'], label = 'train_scores')\n",
    "    plt.plot(test_scores['mean'], label = 'test_scores')\n",
    "    plt.legend()\n",
    "    plt.grid()\n",
    "    plt.xlabel('no. of training samples')\n",
    "    \n",
    "def two_metric_graph(algorithm, X, y):\n",
    "    train_sizes = np.linspace(start = 20, stop = X.shape[0] * 0.8, num = 6, dtype = int)\n",
    "    fig = plt.figure(figsize = (10, 4))\n",
    "\n",
    "    for i, metric in enumerate(['f1', 'balanced_accuracy']):\n",
    "        train_sizes_abs, train_scores, test_scores = learning_curve(algorithm, X, y, train_sizes = train_sizes, \n",
    "                                                                    scoring = metric, cv = 5, shuffle = True, \n",
    "                                                                    random_state = 42)\n",
    "        ax = fig.add_subplot(1, 2, i + 1)\n",
    "        ax = plot_learning_curve(train_scores, test_scores, train_sizes)\n",
    "        plt.title(f\"'performance by '{metric}'\")\n",
    "\n",
    "    plt.tight_layout()\n",
    "    plt.show()"
   ]
  },
  {
   "cell_type": "code",
   "execution_count": 37,
   "metadata": {
    "scrolled": true
   },
   "outputs": [
    {
     "data": {
      "image/png": "[encoded data removed]",
      "text/plain": [
       "<Figure size 720x288 with 2 Axes>"
      ]
     },
     "metadata": {
      "needs_background": "light"
     },
     "output_type": "display_data"
    }
   ],
   "source": [
    "two_metric_graph(svc, X_scaled[feat_svc], y)"
   ]
  },
  {
   "cell_type": "code",
   "execution_count": 38,
   "metadata": {},
   "outputs": [
    {
     "data": {
      "text/plain": [
       "['svc.joblib']"
      ]
     },
     "execution_count": 38,
     "metadata": {},
     "output_type": "execute_result"
    }
   ],
   "source": [
    "svc.fit(X_scaled[feat_svc], y)\n",
    "joblib.dump(svc, 'svc.joblib')"
   ]
  }
 ],
 "metadata": {
  "kernelspec": {
   "display_name": "Python 3",
   "language": "python",
   "name": "python3"
  },
  "language_info": {
   "codemirror_mode": {
    "name": "ipython",
    "version": 3
   },
   "file_extension": ".py",
   "mimetype": "text/x-python",
   "name": "python",
   "nbconvert_exporter": "python",
   "pygments_lexer": "ipython3",
   "version": "3.7.7"
  }
 },
 "nbformat": 4,
 "nbformat_minor": 4
}
